{
  "nbformat": 4,
  "nbformat_minor": 0,
  "metadata": {
    "colab": {
      "name": "Submission 1 Kelas Menengah Machine Learning Developer.ipynb",
      "provenance": [],
      "collapsed_sections": []
    },
    "kernelspec": {
      "name": "python3",
      "display_name": "Python 3"
    },
    "language_info": {
      "name": "python"
    },
    "accelerator": "GPU"
  },
  "cells": [
    {
      "cell_type": "code",
      "metadata": {
        "id": "QiuNngWoOIY2"
      },
      "source": [
        "import csv\n",
        "import numpy as np\n",
        "import tensorflow as tf\n",
        "import pandas as pd\n",
        "from sklearn.model_selection import train_test_split\n",
        "from tensorflow.keras.preprocessing.text import Tokenizer\n",
        "from tensorflow.keras.preprocessing.sequence import pad_sequences\n",
        "from keras.callbacks import EarlyStopping, ModelCheckpoint, ReduceLROnPlateau"
      ],
      "execution_count": 1,
      "outputs": []
    },
    {
      "cell_type": "code",
      "metadata": {
        "colab": {
          "base_uri": "https://localhost:8080/"
        },
        "id": "Mpi2vWXgO1qW",
        "outputId": "99e3f132-24c4-4dfd-b7d8-d098104469c4"
      },
      "source": [
        "!wget --no-check-certificate \\\n",
        "    https://storage.googleapis.com/laurencemoroney-blog.appspot.com/bbc-text.csv \\\n",
        "    -O /tmp/bbc-text.csv"
      ],
      "execution_count": 2,
      "outputs": [
        {
          "output_type": "stream",
          "text": [
            "--2021-08-04 13:54:39--  https://storage.googleapis.com/laurencemoroney-blog.appspot.com/bbc-text.csv\n",
            "Resolving storage.googleapis.com (storage.googleapis.com)... 142.250.141.128, 142.251.2.128, 74.125.137.128, ...\n",
            "Connecting to storage.googleapis.com (storage.googleapis.com)|142.250.141.128|:443... connected.\n",
            "HTTP request sent, awaiting response... 200 OK\n",
            "Length: 5057493 (4.8M) [text/csv]\n",
            "Saving to: ‘/tmp/bbc-text.csv’\n",
            "\n",
            "\r/tmp/bbc-text.csv     0%[                    ]       0  --.-KB/s               \r/tmp/bbc-text.csv   100%[===================>]   4.82M  --.-KB/s    in 0.02s   \n",
            "\n",
            "2021-08-04 13:54:39 (258 MB/s) - ‘/tmp/bbc-text.csv’ saved [5057493/5057493]\n",
            "\n"
          ],
          "name": "stdout"
        }
      ]
    },
    {
      "cell_type": "code",
      "metadata": {
        "id": "zqbVUkaqPdD9"
      },
      "source": [
        "    vocab_size = 5000\n",
        "    embedding_dim = 64\n",
        "    max_length = 200\n",
        "    trunc_type = 'post'\n",
        "    padding_type = 'post'\n",
        "    oov_tok = \"<OOV>\"\n",
        "    training_portion = .8\n",
        "\n",
        "    stopwords = [\"a\", \"about\", \"above\", \"after\", \"again\", \"against\", \"all\", \"am\", \"an\", \"and\", \"any\", \"are\", \"as\", \"at\",\n",
        "                 \"be\", \"because\", \"been\", \"before\", \"being\", \"below\", \"between\", \"both\", \"but\", \"by\", \"could\", \"did\",\n",
        "                 \"do\", \"does\", \"doing\", \"down\", \"during\", \"each\", \"few\", \"for\", \"from\", \"further\", \"had\", \"has\", \"have\",\n",
        "                 \"having\", \"he\", \"he'd\", \"he'll\", \"he's\", \"her\", \"here\", \"here's\", \"hers\", \"herself\", \"him\", \"himself\",\n",
        "                 \"his\", \"how\", \"how's\", \"i\", \"i'd\", \"i'll\", \"i'm\", \"i've\", \"if\", \"in\", \"into\", \"is\", \"it\", \"it's\",\n",
        "                 \"its\", \"itself\", \"let's\", \"me\", \"more\", \"most\", \"my\", \"myself\", \"nor\", \"of\", \"on\", \"once\", \"only\",\n",
        "                 \"or\", \"other\", \"ought\", \"our\", \"ours\", \"ourselves\", \"out\", \"over\", \"own\", \"same\", \"she\", \"she'd\",\n",
        "                 \"she'll\", \"she's\", \"should\", \"so\", \"some\", \"such\", \"than\", \"that\", \"that's\", \"the\", \"their\", \"theirs\",\n",
        "                 \"them\", \"themselves\", \"then\", \"there\", \"there's\", \"these\", \"they\", \"they'd\", \"they'll\", \"they're\",\n",
        "                 \"they've\", \"this\", \"those\", \"through\", \"to\", \"too\", \"under\", \"until\", \"up\", \"very\", \"was\", \"we\",\n",
        "                 \"we'd\", \"we'll\", \"we're\", \"we've\", \"were\", \"what\", \"what's\", \"when\", \"when's\", \"where\", \"where's\",\n",
        "                 \"which\", \"while\", \"who\", \"who's\", \"whom\", \"why\", \"why's\", \"with\", \"would\", \"you\", \"you'd\", \"you'll\",\n",
        "                 \"you're\", \"you've\", \"your\", \"yours\", \"yourself\", \"yourselves\"]"
      ],
      "execution_count": 3,
      "outputs": []
    },
    {
      "cell_type": "code",
      "metadata": {
        "colab": {
          "base_uri": "https://localhost:8080/",
          "height": 419
        },
        "id": "PGeriy17Qk6Y",
        "outputId": "76a3cc88-fad2-453f-8fb0-212257fc47ad"
      },
      "source": [
        "bbc = pd.read_csv(\"/tmp/bbc-text.csv\")\n",
        "bbc"
      ],
      "execution_count": 4,
      "outputs": [
        {
          "output_type": "execute_result",
          "data": {
            "text/html": [
              "<div>\n",
              "<style scoped>\n",
              "    .dataframe tbody tr th:only-of-type {\n",
              "        vertical-align: middle;\n",
              "    }\n",
              "\n",
              "    .dataframe tbody tr th {\n",
              "        vertical-align: top;\n",
              "    }\n",
              "\n",
              "    .dataframe thead th {\n",
              "        text-align: right;\n",
              "    }\n",
              "</style>\n",
              "<table border=\"1\" class=\"dataframe\">\n",
              "  <thead>\n",
              "    <tr style=\"text-align: right;\">\n",
              "      <th></th>\n",
              "      <th>category</th>\n",
              "      <th>text</th>\n",
              "    </tr>\n",
              "  </thead>\n",
              "  <tbody>\n",
              "    <tr>\n",
              "      <th>0</th>\n",
              "      <td>tech</td>\n",
              "      <td>tv future in the hands of viewers with home th...</td>\n",
              "    </tr>\n",
              "    <tr>\n",
              "      <th>1</th>\n",
              "      <td>business</td>\n",
              "      <td>worldcom boss  left books alone  former worldc...</td>\n",
              "    </tr>\n",
              "    <tr>\n",
              "      <th>2</th>\n",
              "      <td>sport</td>\n",
              "      <td>tigers wary of farrell  gamble  leicester say ...</td>\n",
              "    </tr>\n",
              "    <tr>\n",
              "      <th>3</th>\n",
              "      <td>sport</td>\n",
              "      <td>yeading face newcastle in fa cup premiership s...</td>\n",
              "    </tr>\n",
              "    <tr>\n",
              "      <th>4</th>\n",
              "      <td>entertainment</td>\n",
              "      <td>ocean s twelve raids box office ocean s twelve...</td>\n",
              "    </tr>\n",
              "    <tr>\n",
              "      <th>...</th>\n",
              "      <td>...</td>\n",
              "      <td>...</td>\n",
              "    </tr>\n",
              "    <tr>\n",
              "      <th>2220</th>\n",
              "      <td>business</td>\n",
              "      <td>cars pull down us retail figures us retail sal...</td>\n",
              "    </tr>\n",
              "    <tr>\n",
              "      <th>2221</th>\n",
              "      <td>politics</td>\n",
              "      <td>kilroy unveils immigration policy ex-chatshow ...</td>\n",
              "    </tr>\n",
              "    <tr>\n",
              "      <th>2222</th>\n",
              "      <td>entertainment</td>\n",
              "      <td>rem announce new glasgow concert us band rem h...</td>\n",
              "    </tr>\n",
              "    <tr>\n",
              "      <th>2223</th>\n",
              "      <td>politics</td>\n",
              "      <td>how political squabbles snowball it s become c...</td>\n",
              "    </tr>\n",
              "    <tr>\n",
              "      <th>2224</th>\n",
              "      <td>sport</td>\n",
              "      <td>souness delight at euro progress boss graeme s...</td>\n",
              "    </tr>\n",
              "  </tbody>\n",
              "</table>\n",
              "<p>2225 rows × 2 columns</p>\n",
              "</div>"
            ],
            "text/plain": [
              "           category                                               text\n",
              "0              tech  tv future in the hands of viewers with home th...\n",
              "1          business  worldcom boss  left books alone  former worldc...\n",
              "2             sport  tigers wary of farrell  gamble  leicester say ...\n",
              "3             sport  yeading face newcastle in fa cup premiership s...\n",
              "4     entertainment  ocean s twelve raids box office ocean s twelve...\n",
              "...             ...                                                ...\n",
              "2220       business  cars pull down us retail figures us retail sal...\n",
              "2221       politics  kilroy unveils immigration policy ex-chatshow ...\n",
              "2222  entertainment  rem announce new glasgow concert us band rem h...\n",
              "2223       politics  how political squabbles snowball it s become c...\n",
              "2224          sport  souness delight at euro progress boss graeme s...\n",
              "\n",
              "[2225 rows x 2 columns]"
            ]
          },
          "metadata": {
            "tags": []
          },
          "execution_count": 4
        }
      ]
    },
    {
      "cell_type": "code",
      "metadata": {
        "colab": {
          "base_uri": "https://localhost:8080/"
        },
        "id": "1c9_yLcCRCyk",
        "outputId": "338b03de-9817-4561-89bd-f11e34ef4c20"
      },
      "source": [
        "bbc['category'].value_counts()"
      ],
      "execution_count": 5,
      "outputs": [
        {
          "output_type": "execute_result",
          "data": {
            "text/plain": [
              "sport            511\n",
              "business         510\n",
              "politics         417\n",
              "tech             401\n",
              "entertainment    386\n",
              "Name: category, dtype: int64"
            ]
          },
          "metadata": {
            "tags": []
          },
          "execution_count": 5
        }
      ]
    },
    {
      "cell_type": "code",
      "metadata": {
        "id": "bpBRqqDYRi00"
      },
      "source": [
        "bbc = bbc.sample(frac=1).reset_index(drop=True)\n",
        "\n",
        "sentence = []\n",
        "labels = []\n",
        "\n",
        "for label in bbc.category:\n",
        "    labels.append(label)\n",
        "\n",
        "for sen in bbc.text:\n",
        "    for word in stopwords:\n",
        "        token = \" \" + word + \" \"\n",
        "        sen = sen.replace(token, \" \")\n",
        "        sen = sen.replace(\" \", \" \")\n",
        "    sentence.append(sen)"
      ],
      "execution_count": 6,
      "outputs": []
    },
    {
      "cell_type": "code",
      "metadata": {
        "id": "AxlXYeqcS94B"
      },
      "source": [
        "train_sentences, validation_sentences, train_labels, validation_labels = train_test_split(sentence, \n",
        "                                                                                          labels, \n",
        "                                                                                          train_size=training_portion, \n",
        "                                                                                          shuffle=False, \n",
        "                                                                                          random_state=None)\n",
        "\n",
        "train_sentences = np.array(train_sentences)\n",
        "validation_sentences = np.array(validation_sentences)\n",
        "\n",
        "train_labels = np.array(train_labels)\n",
        "validation_labels = np.array(validation_labels)"
      ],
      "execution_count": 7,
      "outputs": []
    },
    {
      "cell_type": "code",
      "metadata": {
        "id": "5jq3PtINTnVK"
      },
      "source": [
        "# tokenize the content\n",
        "tokenizer = Tokenizer(num_words=vocab_size, oov_token=oov_tok)\n",
        "tokenizer.fit_on_texts(train_sentences)\n",
        "\n",
        "train_sequences = tokenizer.texts_to_sequences(train_sentences)\n",
        "train_padded = pad_sequences(train_sequences, padding=padding_type, maxlen=max_length, truncating=trunc_type)\n",
        "\n",
        "validation_sequences = tokenizer.texts_to_sequences(validation_sentences)\n",
        "validation_padded = pad_sequences(validation_sequences, padding=padding_type, maxlen=max_length, truncating=trunc_type)\n",
        "\n",
        "# tokenize the labels\n",
        "labels_tokenizer = Tokenizer()\n",
        "labels_tokenizer.fit_on_texts(labels)"
      ],
      "execution_count": 8,
      "outputs": []
    },
    {
      "cell_type": "code",
      "metadata": {
        "id": "WU5v1_rrTszt"
      },
      "source": [
        "training_labels_seq = np.array(labels_tokenizer.texts_to_sequences(train_labels))\n",
        "validation_labels_seq = np.array(labels_tokenizer.texts_to_sequences(validation_labels))"
      ],
      "execution_count": 9,
      "outputs": []
    },
    {
      "cell_type": "code",
      "metadata": {
        "id": "Kh9e5kHvT7Sl"
      },
      "source": [
        "model = tf.keras.Sequential([\n",
        "    # YOUR CODE HERE.\n",
        "    tf.keras.layers.Embedding(vocab_size, embedding_dim, input_length=max_length),\n",
        "    tf.keras.layers.SpatialDropout1D(0.3),\n",
        "    tf.keras.layers.Bidirectional(tf.keras.layers.LSTM(64)),\n",
        "    tf.keras.layers.Dense(128, activation='relu'),\n",
        "    tf.keras.layers.Dense(6, activation='softmax')\n",
        "])"
      ],
      "execution_count": 10,
      "outputs": []
    },
    {
      "cell_type": "code",
      "metadata": {
        "id": "pkGB8a6pT-kV"
      },
      "source": [
        "model.compile(\n",
        "    loss='sparse_categorical_crossentropy',\n",
        "    optimizer='adam',\n",
        "    metrics=['accuracy'])"
      ],
      "execution_count": 11,
      "outputs": []
    },
    {
      "cell_type": "code",
      "metadata": {
        "id": "okivr85XXtXK"
      },
      "source": [
        "save_model = '/content/sample_data/model.h5'\n",
        "earlyStopping = EarlyStopping(monitor='val_loss', patience=10, verbose=0, mode='min')\n",
        "modelCheckpoint = ModelCheckpoint(save_model, save_best_only=True, monitor='val_accuracy', mode='max', verbose=1)\n",
        "reducelr = ReduceLROnPlateau(monitor='val_loss', factor=0.1, patience=10, verbose=1, min_delta=1e-4, mode='min')"
      ],
      "execution_count": 12,
      "outputs": []
    },
    {
      "cell_type": "code",
      "metadata": {
        "colab": {
          "base_uri": "https://localhost:8080/"
        },
        "id": "yUAhVrqBUC95",
        "outputId": "915fbcb8-1032-434b-f4d6-c740ffe6f9e5"
      },
      "source": [
        "history = model.fit(train_padded,\n",
        "                    training_labels_seq,\n",
        "                    epochs=25,\n",
        "                    validation_data=(validation_padded, validation_labels_seq),\n",
        "                    callbacks=[earlyStopping, modelCheckpoint, reducelr],\n",
        "                    verbose=1)"
      ],
      "execution_count": 13,
      "outputs": [
        {
          "output_type": "stream",
          "text": [
            "Epoch 1/25\n",
            "56/56 [==============================] - 6s 38ms/step - loss: 1.5453 - accuracy: 0.3146 - val_loss: 1.1875 - val_accuracy: 0.5416\n",
            "\n",
            "Epoch 00001: val_accuracy improved from -inf to 0.54157, saving model to /content/sample_data/model.h5\n",
            "Epoch 2/25\n",
            "56/56 [==============================] - 1s 23ms/step - loss: 1.1182 - accuracy: 0.5758 - val_loss: 0.9244 - val_accuracy: 0.6337\n",
            "\n",
            "Epoch 00002: val_accuracy improved from 0.54157 to 0.63371, saving model to /content/sample_data/model.h5\n",
            "Epoch 3/25\n",
            "56/56 [==============================] - 1s 23ms/step - loss: 0.5514 - accuracy: 0.8006 - val_loss: 0.4528 - val_accuracy: 0.8112\n",
            "\n",
            "Epoch 00003: val_accuracy improved from 0.63371 to 0.81124, saving model to /content/sample_data/model.h5\n",
            "Epoch 4/25\n",
            "56/56 [==============================] - 1s 23ms/step - loss: 0.4507 - accuracy: 0.8303 - val_loss: 0.2907 - val_accuracy: 0.9034\n",
            "\n",
            "Epoch 00004: val_accuracy improved from 0.81124 to 0.90337, saving model to /content/sample_data/model.h5\n",
            "Epoch 5/25\n",
            "56/56 [==============================] - 1s 23ms/step - loss: 0.1677 - accuracy: 0.9438 - val_loss: 0.2564 - val_accuracy: 0.9191\n",
            "\n",
            "Epoch 00005: val_accuracy improved from 0.90337 to 0.91910, saving model to /content/sample_data/model.h5\n",
            "Epoch 6/25\n",
            "56/56 [==============================] - 1s 23ms/step - loss: 0.0949 - accuracy: 0.9753 - val_loss: 0.2350 - val_accuracy: 0.9236\n",
            "\n",
            "Epoch 00006: val_accuracy improved from 0.91910 to 0.92360, saving model to /content/sample_data/model.h5\n",
            "Epoch 7/25\n",
            "56/56 [==============================] - 1s 23ms/step - loss: 0.0607 - accuracy: 0.9815 - val_loss: 0.5067 - val_accuracy: 0.8449\n",
            "\n",
            "Epoch 00007: val_accuracy did not improve from 0.92360\n",
            "Epoch 8/25\n",
            "56/56 [==============================] - 1s 23ms/step - loss: 0.0606 - accuracy: 0.9860 - val_loss: 0.2303 - val_accuracy: 0.9303\n",
            "\n",
            "Epoch 00008: val_accuracy improved from 0.92360 to 0.93034, saving model to /content/sample_data/model.h5\n",
            "Epoch 9/25\n",
            "56/56 [==============================] - 1s 23ms/step - loss: 0.0110 - accuracy: 0.9978 - val_loss: 0.2128 - val_accuracy: 0.9371\n",
            "\n",
            "Epoch 00009: val_accuracy improved from 0.93034 to 0.93708, saving model to /content/sample_data/model.h5\n",
            "Epoch 10/25\n",
            "56/56 [==============================] - 1s 23ms/step - loss: 0.0033 - accuracy: 1.0000 - val_loss: 0.2220 - val_accuracy: 0.9438\n",
            "\n",
            "Epoch 00010: val_accuracy improved from 0.93708 to 0.94382, saving model to /content/sample_data/model.h5\n",
            "Epoch 11/25\n",
            "56/56 [==============================] - 1s 23ms/step - loss: 0.0049 - accuracy: 0.9994 - val_loss: 0.2241 - val_accuracy: 0.9506\n",
            "\n",
            "Epoch 00011: val_accuracy improved from 0.94382 to 0.95056, saving model to /content/sample_data/model.h5\n",
            "Epoch 12/25\n",
            "56/56 [==============================] - 1s 23ms/step - loss: 0.0016 - accuracy: 1.0000 - val_loss: 0.2344 - val_accuracy: 0.9528\n",
            "\n",
            "Epoch 00012: val_accuracy improved from 0.95056 to 0.95281, saving model to /content/sample_data/model.h5\n",
            "Epoch 13/25\n",
            "56/56 [==============================] - 1s 23ms/step - loss: 0.0011 - accuracy: 1.0000 - val_loss: 0.2340 - val_accuracy: 0.9506\n",
            "\n",
            "Epoch 00013: val_accuracy did not improve from 0.95281\n",
            "Epoch 14/25\n",
            "56/56 [==============================] - 1s 23ms/step - loss: 0.0084 - accuracy: 0.9978 - val_loss: 0.2457 - val_accuracy: 0.9348\n",
            "\n",
            "Epoch 00014: val_accuracy did not improve from 0.95281\n",
            "Epoch 15/25\n",
            "56/56 [==============================] - 1s 23ms/step - loss: 0.0033 - accuracy: 0.9994 - val_loss: 0.2296 - val_accuracy: 0.9326\n",
            "\n",
            "Epoch 00015: val_accuracy did not improve from 0.95281\n",
            "Epoch 16/25\n",
            "56/56 [==============================] - 1s 23ms/step - loss: 0.0019 - accuracy: 0.9994 - val_loss: 0.2519 - val_accuracy: 0.9438\n",
            "\n",
            "Epoch 00016: val_accuracy did not improve from 0.95281\n",
            "Epoch 17/25\n",
            "56/56 [==============================] - 1s 22ms/step - loss: 0.0038 - accuracy: 0.9989 - val_loss: 0.2418 - val_accuracy: 0.9483\n",
            "\n",
            "Epoch 00017: val_accuracy did not improve from 0.95281\n",
            "Epoch 18/25\n",
            "56/56 [==============================] - 1s 23ms/step - loss: 0.0073 - accuracy: 0.9972 - val_loss: 0.2544 - val_accuracy: 0.9303\n",
            "\n",
            "Epoch 00018: val_accuracy did not improve from 0.95281\n",
            "Epoch 19/25\n",
            "56/56 [==============================] - 1s 22ms/step - loss: 0.0035 - accuracy: 1.0000 - val_loss: 0.2832 - val_accuracy: 0.9438\n",
            "\n",
            "Epoch 00019: val_accuracy did not improve from 0.95281\n",
            "\n",
            "Epoch 00019: ReduceLROnPlateau reducing learning rate to 0.00010000000474974513.\n"
          ],
          "name": "stdout"
        }
      ]
    },
    {
      "cell_type": "code",
      "metadata": {
        "id": "szDqLQ76YSbs"
      },
      "source": [
        "import matplotlib.pyplot as plt\n",
        "\n",
        "def plot_acc_loss(history):\n",
        "    # Visualization Model Training\n",
        "    loss = history.history['loss']\n",
        "    val_loss = history.history['val_loss']\n",
        "    acc = history.history['accuracy']\n",
        "    val_acc = history.history['val_accuracy']\n",
        "\n",
        "    epoch_number = range(len(acc))\n",
        "    plt.figure(figsize=(6, 6), dpi=100)\n",
        "    plt.subplot(2,1,1)\n",
        "    plt.plot(epoch_number, acc, 'r', label='train acc')\n",
        "    plt.plot(epoch_number, val_acc, 'b', label='val acc')\n",
        "    plt.title('Train and Validation Accuracy')\n",
        "    plt.legend()\n",
        "\n",
        "    plt.subplot(2,1,2)\n",
        "    plt.plot(epoch_number, loss, 'r', label='train loss')\n",
        "    plt.plot(epoch_number, val_loss, 'b', label='val loss')\n",
        "    plt.title('Train and Validation Loss')\n",
        "    plt.legend()\n",
        "\n",
        "    plt.show()"
      ],
      "execution_count": 14,
      "outputs": []
    },
    {
      "cell_type": "code",
      "metadata": {
        "colab": {
          "base_uri": "https://localhost:8080/",
          "height": 536
        },
        "id": "KKfK9rNzY4Tw",
        "outputId": "b0f56883-b443-492e-fb9b-10dd12a883c6"
      },
      "source": [
        "train_visualitation = plot_acc_loss(history)"
      ],
      "execution_count": 15,
      "outputs": [
        {
          "output_type": "display_data",
          "data": {
            "image/png": "[encoded data removed]",
            "text/plain": [
              "<Figure size 600x600 with 2 Axes>"
            ]
          },
          "metadata": {
            "tags": [],
            "needs_background": "light"
          }
        }
      ]
    }
  ]
}