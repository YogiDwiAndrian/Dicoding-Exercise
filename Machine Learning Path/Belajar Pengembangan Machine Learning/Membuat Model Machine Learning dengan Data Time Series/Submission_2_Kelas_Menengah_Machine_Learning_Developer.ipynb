{
  "nbformat": 4,
  "nbformat_minor": 0,
  "metadata": {
    "colab": {
      "name": "Submission 2 Kelas Menengah Machine Learning Developer.ipynb",
      "provenance": []
    },
    "kernelspec": {
      "name": "python3",
      "display_name": "Python 3"
    },
    "language_info": {
      "name": "python"
    },
    "accelerator": "GPU"
  },
  "cells": [
    {
      "cell_type": "code",
      "metadata": {
        "id": "p5-lZE3O7y3D"
      },
      "source": [
        "import csv\n",
        "import tensorflow as tf\n",
        "import numpy as np\n",
        "from keras.callbacks import EarlyStopping, ModelCheckpoint, ReduceLROnPlateau"
      ],
      "execution_count": 1,
      "outputs": []
    },
    {
      "cell_type": "code",
      "metadata": {
        "id": "mdM9_G_KjeIt"
      },
      "source": [
        "def windowed_dataset(series, window_size, batch_size, shuffle_buffer):\n",
        "    series = tf.expand_dims(series, axis=-1)\n",
        "    ds = tf.data.Dataset.from_tensor_slices(series)\n",
        "    ds = ds.window(window_size + 1, shift=1, drop_remainder=True)\n",
        "    ds = ds.flat_map(lambda w: w.batch(window_size + 1))\n",
        "    ds = ds.shuffle(shuffle_buffer)\n",
        "    ds = ds.map(lambda w: (w[:-1], w[1:]))\n",
        "    return ds.batch(batch_size).prefetch(1)"
      ],
      "execution_count": 2,
      "outputs": []
    },
    {
      "cell_type": "code",
      "metadata": {
        "id": "TfHApRNx8H5W"
      },
      "source": [
        "# dataset from https://www.kaggle.com/shaneysze/new-york-city-daily-temperature-18692021\n",
        "time_step = []\n",
        "temp_max = []\n",
        "data_sample = 12000\n",
        "\n",
        "with open('/content/sample_data/nyc_temp_1869_2021.csv') as csvfile:\n",
        "  reader = csv.reader(csvfile, delimiter=',')\n",
        "  next(reader)\n",
        "  for row in reader:\n",
        "    temp_max.append(float(row[5]))\n",
        "    time_step.append(int(row[0]))\n",
        "\n",
        "series = np.array(temp_max[:data_sample])"
      ],
      "execution_count": 3,
      "outputs": []
    },
    {
      "cell_type": "code",
      "metadata": {
        "id": "9hOAJw-AL24h"
      },
      "source": [
        "# Normalization Function\n",
        "min = np.min(series)\n",
        "max = np.max(series)\n",
        "series -= min\n",
        "series /= max\n",
        "time = np.array(time_step[:data_sample])"
      ],
      "execution_count": 4,
      "outputs": []
    },
    {
      "cell_type": "code",
      "metadata": {
        "id": "D7GGp_QCM5B-"
      },
      "source": [
        "x_train = series[:int(len(series)*0.8)] \n",
        "x_valid = series[int(len(series)*0.8):] "
      ],
      "execution_count": 5,
      "outputs": []
    },
    {
      "cell_type": "code",
      "metadata": {
        "colab": {
          "base_uri": "https://localhost:8080/"
        },
        "id": "6ypA0OG0qhyi",
        "outputId": "a0238c6e-483a-4ded-e886-104e54d445cd"
      },
      "source": [
        "print(len(x_train))\n",
        "print(len(x_valid))"
      ],
      "execution_count": 6,
      "outputs": [
        {
          "output_type": "stream",
          "text": [
            "9600\n",
            "2400\n"
          ],
          "name": "stdout"
        }
      ]
    },
    {
      "cell_type": "code",
      "metadata": {
        "id": "BwKQakRYM9FM"
      },
      "source": [
        "window_size = 30\n",
        "batch_size = 32\n",
        "shuffle_buffer_size = 1000"
      ],
      "execution_count": 7,
      "outputs": []
    },
    {
      "cell_type": "code",
      "metadata": {
        "colab": {
          "base_uri": "https://localhost:8080/"
        },
        "id": "k9-J76RCo3Rw",
        "outputId": "0294a830-2468-4eb7-ed04-0248d6f023f5"
      },
      "source": [
        "train_set = windowed_dataset(x_train, window_size, batch_size, shuffle_buffer_size)\n",
        "validation_set = windowed_dataset(x_valid, window_size, batch_size, shuffle_buffer_size)\n",
        "print(train_set)\n",
        "print(x_train.shape)"
      ],
      "execution_count": 8,
      "outputs": [
        {
          "output_type": "stream",
          "text": [
            "<PrefetchDataset shapes: ((None, None, 1), (None, None, 1)), types: (tf.float64, tf.float64)>\n",
            "(9600,)\n"
          ],
          "name": "stdout"
        }
      ]
    },
    {
      "cell_type": "code",
      "metadata": {
        "id": "ZSoKH5i1o_Ai"
      },
      "source": [
        "model = tf.keras.models.Sequential([\n",
        "        # YOUR CODE HERE.\n",
        "        tf.keras.layers.LSTM(60, return_sequences=True),\n",
        "        tf.keras.layers.LSTM(60),\n",
        "        tf.keras.layers.Dense(30, activation=\"relu\"),\n",
        "        tf.keras.layers.Dense(10, activation=\"relu\"),\n",
        "        tf.keras.layers.Dense(1),\n",
        "    ])"
      ],
      "execution_count": 9,
      "outputs": []
    },
    {
      "cell_type": "code",
      "metadata": {
        "id": "SB9WdpJtpEDk"
      },
      "source": [
        "optimizer = tf.keras.optimizers.SGD(learning_rate=1e-4, momentum=0.9)\n",
        "model.compile(loss=tf.keras.losses.Huber(),\n",
        "              optimizer=optimizer,\n",
        "              metrics=[\"mae\"])"
      ],
      "execution_count": 10,
      "outputs": []
    },
    {
      "cell_type": "code",
      "metadata": {
        "id": "recMPKzsrpen"
      },
      "source": [
        "save_model = '/content/sample_data/model.h5'\n",
        "earlyStopping = EarlyStopping(monitor='val_loss', patience=10, verbose=0, mode='min')\n",
        "modelCheckpoint = ModelCheckpoint(save_model, save_best_only=True, monitor='val_mae', mode='min', verbose=1)\n",
        "reducelr = ReduceLROnPlateau(monitor='val_loss', factor=0.1, patience=10, verbose=1, min_delta=1e-4, mode='min')"
      ],
      "execution_count": 11,
      "outputs": []
    },
    {
      "cell_type": "code",
      "metadata": {
        "colab": {
          "base_uri": "https://localhost:8080/"
        },
        "id": "PAt3W2JFpKSV",
        "outputId": "fa09090d-610d-4691-aed0-0de8f5d078a6"
      },
      "source": [
        "history = model.fit(train_set,\n",
        "                    validation_data=validation_set,\n",
        "                    epochs=60,\n",
        "                    verbose=1,\n",
        "                    callbacks=[earlyStopping, modelCheckpoint, reducelr])"
      ],
      "execution_count": 12,
      "outputs": [
        {
          "output_type": "stream",
          "text": [
            "Epoch 1/60\n",
            "300/300 [==============================] - 7s 11ms/step - loss: 0.2010 - mae: 0.5670 - val_loss: 0.1069 - val_mae: 0.4016\n",
            "\n",
            "Epoch 00001: val_mae improved from inf to 0.40161, saving model to /content/sample_data/model.h5\n",
            "Epoch 2/60\n",
            "300/300 [==============================] - 3s 9ms/step - loss: 0.0414 - mae: 0.2344 - val_loss: 0.0235 - val_mae: 0.1827\n",
            "\n",
            "Epoch 00002: val_mae improved from 0.40161 to 0.18267, saving model to /content/sample_data/model.h5\n",
            "Epoch 3/60\n",
            "300/300 [==============================] - 3s 9ms/step - loss: 0.0218 - mae: 0.1760 - val_loss: 0.0211 - val_mae: 0.1721\n",
            "\n",
            "Epoch 00003: val_mae improved from 0.18267 to 0.17209, saving model to /content/sample_data/model.h5\n",
            "Epoch 4/60\n",
            "300/300 [==============================] - 3s 9ms/step - loss: 0.0200 - mae: 0.1678 - val_loss: 0.0194 - val_mae: 0.1642\n",
            "\n",
            "Epoch 00004: val_mae improved from 0.17209 to 0.16421, saving model to /content/sample_data/model.h5\n",
            "Epoch 5/60\n",
            "300/300 [==============================] - 3s 9ms/step - loss: 0.0183 - mae: 0.1599 - val_loss: 0.0177 - val_mae: 0.1560\n",
            "\n",
            "Epoch 00005: val_mae improved from 0.16421 to 0.15605, saving model to /content/sample_data/model.h5\n",
            "Epoch 6/60\n",
            "300/300 [==============================] - 3s 10ms/step - loss: 0.0166 - mae: 0.1512 - val_loss: 0.0161 - val_mae: 0.1480\n",
            "\n",
            "Epoch 00006: val_mae improved from 0.15605 to 0.14799, saving model to /content/sample_data/model.h5\n",
            "Epoch 7/60\n",
            "300/300 [==============================] - 3s 10ms/step - loss: 0.0151 - mae: 0.1435 - val_loss: 0.0147 - val_mae: 0.1406\n",
            "\n",
            "Epoch 00007: val_mae improved from 0.14799 to 0.14060, saving model to /content/sample_data/model.h5\n",
            "Epoch 8/60\n",
            "300/300 [==============================] - 3s 10ms/step - loss: 0.0138 - mae: 0.1363 - val_loss: 0.0134 - val_mae: 0.1339\n",
            "\n",
            "Epoch 00008: val_mae improved from 0.14060 to 0.13386, saving model to /content/sample_data/model.h5\n",
            "Epoch 9/60\n",
            "300/300 [==============================] - 3s 10ms/step - loss: 0.0126 - mae: 0.1296 - val_loss: 0.0123 - val_mae: 0.1275\n",
            "\n",
            "Epoch 00009: val_mae improved from 0.13386 to 0.12752, saving model to /content/sample_data/model.h5\n",
            "Epoch 10/60\n",
            "300/300 [==============================] - 3s 10ms/step - loss: 0.0116 - mae: 0.1235 - val_loss: 0.0113 - val_mae: 0.1219\n",
            "\n",
            "Epoch 00010: val_mae improved from 0.12752 to 0.12188, saving model to /content/sample_data/model.h5\n",
            "Epoch 11/60\n",
            "300/300 [==============================] - 3s 10ms/step - loss: 0.0107 - mae: 0.1181 - val_loss: 0.0105 - val_mae: 0.1170\n",
            "\n",
            "Epoch 00011: val_mae improved from 0.12188 to 0.11698, saving model to /content/sample_data/model.h5\n",
            "Epoch 12/60\n",
            "300/300 [==============================] - 3s 9ms/step - loss: 0.0099 - mae: 0.1134 - val_loss: 0.0098 - val_mae: 0.1127\n",
            "\n",
            "Epoch 00012: val_mae improved from 0.11698 to 0.11275, saving model to /content/sample_data/model.h5\n",
            "Epoch 13/60\n",
            "300/300 [==============================] - 3s 9ms/step - loss: 0.0093 - mae: 0.1095 - val_loss: 0.0093 - val_mae: 0.1092\n",
            "\n",
            "Epoch 00013: val_mae improved from 0.11275 to 0.10920, saving model to /content/sample_data/model.h5\n",
            "Epoch 14/60\n",
            "300/300 [==============================] - 3s 9ms/step - loss: 0.0088 - mae: 0.1062 - val_loss: 0.0089 - val_mae: 0.1063\n",
            "\n",
            "Epoch 00014: val_mae improved from 0.10920 to 0.10635, saving model to /content/sample_data/model.h5\n",
            "Epoch 15/60\n",
            "300/300 [==============================] - 3s 9ms/step - loss: 0.0085 - mae: 0.1037 - val_loss: 0.0085 - val_mae: 0.1040\n",
            "\n",
            "Epoch 00015: val_mae improved from 0.10635 to 0.10405, saving model to /content/sample_data/model.h5\n",
            "Epoch 16/60\n",
            "300/300 [==============================] - 3s 9ms/step - loss: 0.0082 - mae: 0.1017 - val_loss: 0.0083 - val_mae: 0.1022\n",
            "\n",
            "Epoch 00016: val_mae improved from 0.10405 to 0.10221, saving model to /content/sample_data/model.h5\n",
            "Epoch 17/60\n",
            "300/300 [==============================] - 3s 9ms/step - loss: 0.0080 - mae: 0.1002 - val_loss: 0.0081 - val_mae: 0.1009\n",
            "\n",
            "Epoch 00017: val_mae improved from 0.10221 to 0.10088, saving model to /content/sample_data/model.h5\n",
            "Epoch 18/60\n",
            "300/300 [==============================] - 3s 9ms/step - loss: 0.0078 - mae: 0.0991 - val_loss: 0.0079 - val_mae: 0.0998\n",
            "\n",
            "Epoch 00018: val_mae improved from 0.10088 to 0.09983, saving model to /content/sample_data/model.h5\n",
            "Epoch 19/60\n",
            "300/300 [==============================] - 3s 9ms/step - loss: 0.0077 - mae: 0.0982 - val_loss: 0.0078 - val_mae: 0.0990\n",
            "\n",
            "Epoch 00019: val_mae improved from 0.09983 to 0.09902, saving model to /content/sample_data/model.h5\n",
            "Epoch 20/60\n",
            "300/300 [==============================] - 3s 9ms/step - loss: 0.0076 - mae: 0.0976 - val_loss: 0.0077 - val_mae: 0.0984\n",
            "\n",
            "Epoch 00020: val_mae improved from 0.09902 to 0.09844, saving model to /content/sample_data/model.h5\n",
            "Epoch 21/60\n",
            "300/300 [==============================] - 3s 9ms/step - loss: 0.0075 - mae: 0.0971 - val_loss: 0.0077 - val_mae: 0.0980\n",
            "\n",
            "Epoch 00021: val_mae improved from 0.09844 to 0.09799, saving model to /content/sample_data/model.h5\n",
            "Epoch 22/60\n",
            "300/300 [==============================] - 3s 10ms/step - loss: 0.0075 - mae: 0.0968 - val_loss: 0.0076 - val_mae: 0.0977\n",
            "\n",
            "Epoch 00022: val_mae improved from 0.09799 to 0.09766, saving model to /content/sample_data/model.h5\n",
            "Epoch 23/60\n",
            "300/300 [==============================] - 3s 10ms/step - loss: 0.0075 - mae: 0.0965 - val_loss: 0.0076 - val_mae: 0.0974\n",
            "\n",
            "Epoch 00023: val_mae improved from 0.09766 to 0.09741, saving model to /content/sample_data/model.h5\n",
            "Epoch 24/60\n",
            "300/300 [==============================] - 3s 10ms/step - loss: 0.0074 - mae: 0.0963 - val_loss: 0.0076 - val_mae: 0.0972\n",
            "\n",
            "Epoch 00024: val_mae improved from 0.09741 to 0.09724, saving model to /content/sample_data/model.h5\n",
            "Epoch 25/60\n",
            "300/300 [==============================] - 3s 10ms/step - loss: 0.0074 - mae: 0.0962 - val_loss: 0.0076 - val_mae: 0.0971\n",
            "\n",
            "Epoch 00025: val_mae improved from 0.09724 to 0.09710, saving model to /content/sample_data/model.h5\n",
            "Epoch 26/60\n",
            "300/300 [==============================] - 3s 10ms/step - loss: 0.0074 - mae: 0.0961 - val_loss: 0.0075 - val_mae: 0.0970\n",
            "\n",
            "Epoch 00026: val_mae improved from 0.09710 to 0.09699, saving model to /content/sample_data/model.h5\n",
            "Epoch 27/60\n",
            "300/300 [==============================] - 3s 10ms/step - loss: 0.0074 - mae: 0.0960 - val_loss: 0.0075 - val_mae: 0.0969\n",
            "\n",
            "Epoch 00027: val_mae improved from 0.09699 to 0.09692, saving model to /content/sample_data/model.h5\n",
            "Epoch 28/60\n",
            "300/300 [==============================] - 3s 10ms/step - loss: 0.0074 - mae: 0.0959 - val_loss: 0.0075 - val_mae: 0.0969\n",
            "\n",
            "Epoch 00028: val_mae improved from 0.09692 to 0.09686, saving model to /content/sample_data/model.h5\n",
            "Epoch 29/60\n",
            "300/300 [==============================] - 3s 10ms/step - loss: 0.0074 - mae: 0.0959 - val_loss: 0.0075 - val_mae: 0.0968\n",
            "\n",
            "Epoch 00029: val_mae improved from 0.09686 to 0.09682, saving model to /content/sample_data/model.h5\n",
            "Epoch 30/60\n",
            "300/300 [==============================] - 3s 9ms/step - loss: 0.0074 - mae: 0.0959 - val_loss: 0.0075 - val_mae: 0.0968\n",
            "\n",
            "Epoch 00030: val_mae improved from 0.09682 to 0.09677, saving model to /content/sample_data/model.h5\n",
            "Epoch 31/60\n",
            "300/300 [==============================] - 3s 9ms/step - loss: 0.0074 - mae: 0.0958 - val_loss: 0.0075 - val_mae: 0.0967\n",
            "\n",
            "Epoch 00031: val_mae improved from 0.09677 to 0.09673, saving model to /content/sample_data/model.h5\n",
            "Epoch 32/60\n",
            "300/300 [==============================] - 3s 9ms/step - loss: 0.0074 - mae: 0.0958 - val_loss: 0.0075 - val_mae: 0.0967\n",
            "\n",
            "Epoch 00032: val_mae improved from 0.09673 to 0.09671, saving model to /content/sample_data/model.h5\n",
            "Epoch 33/60\n",
            "300/300 [==============================] - 3s 9ms/step - loss: 0.0074 - mae: 0.0958 - val_loss: 0.0075 - val_mae: 0.0967\n",
            "\n",
            "Epoch 00033: val_mae improved from 0.09671 to 0.09670, saving model to /content/sample_data/model.h5\n",
            "Epoch 34/60\n",
            "300/300 [==============================] - 3s 9ms/step - loss: 0.0074 - mae: 0.0958 - val_loss: 0.0075 - val_mae: 0.0967\n",
            "\n",
            "Epoch 00034: val_mae improved from 0.09670 to 0.09668, saving model to /content/sample_data/model.h5\n",
            "Epoch 35/60\n",
            "300/300 [==============================] - 3s 9ms/step - loss: 0.0074 - mae: 0.0958 - val_loss: 0.0075 - val_mae: 0.0967\n",
            "\n",
            "Epoch 00035: val_mae improved from 0.09668 to 0.09666, saving model to /content/sample_data/model.h5\n",
            "\n",
            "Epoch 00035: ReduceLROnPlateau reducing learning rate to 9.999999747378752e-06.\n",
            "Epoch 36/60\n",
            "300/300 [==============================] - 3s 9ms/step - loss: 0.0074 - mae: 0.0957 - val_loss: 0.0075 - val_mae: 0.0967\n",
            "\n",
            "Epoch 00036: val_mae did not improve from 0.09666\n",
            "Epoch 37/60\n",
            "300/300 [==============================] - 3s 9ms/step - loss: 0.0074 - mae: 0.0957 - val_loss: 0.0075 - val_mae: 0.0967\n",
            "\n",
            "Epoch 00037: val_mae did not improve from 0.09666\n",
            "Epoch 38/60\n",
            "300/300 [==============================] - 3s 9ms/step - loss: 0.0074 - mae: 0.0957 - val_loss: 0.0075 - val_mae: 0.0967\n",
            "\n",
            "Epoch 00038: val_mae did not improve from 0.09666\n",
            "Epoch 39/60\n",
            "300/300 [==============================] - 3s 9ms/step - loss: 0.0074 - mae: 0.0957 - val_loss: 0.0075 - val_mae: 0.0967\n",
            "\n",
            "Epoch 00039: val_mae did not improve from 0.09666\n",
            "Epoch 40/60\n",
            "300/300 [==============================] - 3s 9ms/step - loss: 0.0074 - mae: 0.0957 - val_loss: 0.0075 - val_mae: 0.0967\n",
            "\n",
            "Epoch 00040: val_mae did not improve from 0.09666\n",
            "Epoch 41/60\n",
            "300/300 [==============================] - 3s 10ms/step - loss: 0.0074 - mae: 0.0957 - val_loss: 0.0075 - val_mae: 0.0967\n",
            "\n",
            "Epoch 00041: val_mae did not improve from 0.09666\n",
            "Epoch 42/60\n",
            "300/300 [==============================] - 3s 10ms/step - loss: 0.0074 - mae: 0.0957 - val_loss: 0.0075 - val_mae: 0.0967\n",
            "\n",
            "Epoch 00042: val_mae did not improve from 0.09666\n",
            "Epoch 43/60\n",
            "300/300 [==============================] - 3s 10ms/step - loss: 0.0074 - mae: 0.0957 - val_loss: 0.0075 - val_mae: 0.0967\n",
            "\n",
            "Epoch 00043: val_mae did not improve from 0.09666\n",
            "Epoch 44/60\n",
            "300/300 [==============================] - 3s 10ms/step - loss: 0.0074 - mae: 0.0957 - val_loss: 0.0075 - val_mae: 0.0967\n",
            "\n",
            "Epoch 00044: val_mae did not improve from 0.09666\n",
            "Epoch 45/60\n",
            "300/300 [==============================] - 3s 10ms/step - loss: 0.0074 - mae: 0.0957 - val_loss: 0.0075 - val_mae: 0.0967\n",
            "\n",
            "Epoch 00045: val_mae did not improve from 0.09666\n",
            "\n",
            "Epoch 00045: ReduceLROnPlateau reducing learning rate to 9.999999747378752e-07.\n",
            "Epoch 46/60\n",
            "300/300 [==============================] - 3s 10ms/step - loss: 0.0074 - mae: 0.0957 - val_loss: 0.0075 - val_mae: 0.0967\n",
            "\n",
            "Epoch 00046: val_mae did not improve from 0.09666\n",
            "Epoch 47/60\n",
            "300/300 [==============================] - 3s 10ms/step - loss: 0.0074 - mae: 0.0957 - val_loss: 0.0075 - val_mae: 0.0967\n",
            "\n",
            "Epoch 00047: val_mae did not improve from 0.09666\n",
            "Epoch 48/60\n",
            "300/300 [==============================] - 3s 9ms/step - loss: 0.0074 - mae: 0.0957 - val_loss: 0.0075 - val_mae: 0.0967\n",
            "\n",
            "Epoch 00048: val_mae did not improve from 0.09666\n",
            "Epoch 49/60\n",
            "300/300 [==============================] - 3s 9ms/step - loss: 0.0074 - mae: 0.0957 - val_loss: 0.0075 - val_mae: 0.0967\n",
            "\n",
            "Epoch 00049: val_mae did not improve from 0.09666\n",
            "Epoch 50/60\n",
            "300/300 [==============================] - 3s 10ms/step - loss: 0.0074 - mae: 0.0957 - val_loss: 0.0075 - val_mae: 0.0967\n",
            "\n",
            "Epoch 00050: val_mae did not improve from 0.09666\n",
            "Epoch 51/60\n",
            "300/300 [==============================] - 3s 10ms/step - loss: 0.0074 - mae: 0.0957 - val_loss: 0.0075 - val_mae: 0.0967\n",
            "\n",
            "Epoch 00051: val_mae did not improve from 0.09666\n",
            "Epoch 52/60\n",
            "300/300 [==============================] - 3s 10ms/step - loss: 0.0074 - mae: 0.0957 - val_loss: 0.0075 - val_mae: 0.0967\n",
            "\n",
            "Epoch 00052: val_mae did not improve from 0.09666\n",
            "Epoch 53/60\n",
            "300/300 [==============================] - 3s 10ms/step - loss: 0.0074 - mae: 0.0957 - val_loss: 0.0075 - val_mae: 0.0967\n",
            "\n",
            "Epoch 00053: val_mae did not improve from 0.09666\n",
            "Epoch 54/60\n",
            "300/300 [==============================] - 3s 10ms/step - loss: 0.0074 - mae: 0.0957 - val_loss: 0.0075 - val_mae: 0.0967\n",
            "\n",
            "Epoch 00054: val_mae did not improve from 0.09666\n",
            "Epoch 55/60\n",
            "300/300 [==============================] - 3s 10ms/step - loss: 0.0074 - mae: 0.0957 - val_loss: 0.0075 - val_mae: 0.0967\n",
            "\n",
            "Epoch 00055: val_mae did not improve from 0.09666\n",
            "\n",
            "Epoch 00055: ReduceLROnPlateau reducing learning rate to 9.999999974752428e-08.\n",
            "Epoch 56/60\n",
            "300/300 [==============================] - 3s 9ms/step - loss: 0.0074 - mae: 0.0957 - val_loss: 0.0075 - val_mae: 0.0967\n",
            "\n",
            "Epoch 00056: val_mae did not improve from 0.09666\n"
          ],
          "name": "stdout"
        }
      ]
    },
    {
      "cell_type": "code",
      "metadata": {
        "id": "X8ke5XrK7qqT"
      },
      "source": [
        "import matplotlib.pyplot as plt\n",
        "\n",
        "def plot_acc_loss(history):\n",
        "    # Visualization Model Training\n",
        "    loss = history.history['loss']\n",
        "    val_loss = history.history['val_loss']\n",
        "    acc = history.history['mae']\n",
        "    val_acc = history.history['val_mae']\n",
        "\n",
        "    epoch_number = range(len(acc))\n",
        "    plt.figure(figsize=(6, 6), dpi=100)\n",
        "    plt.subplot(2,1,1)\n",
        "    plt.plot(epoch_number, acc, 'r', label='train mae')\n",
        "    plt.plot(epoch_number, val_acc, 'b', label='val mae')\n",
        "    plt.title('Train and Validation Accuracy')\n",
        "    plt.legend()\n",
        "\n",
        "    plt.subplot(2,1,2)\n",
        "    plt.plot(epoch_number, loss, 'r', label='train loss')\n",
        "    plt.plot(epoch_number, val_loss, 'b', label='val loss')\n",
        "    plt.title('Train and Validation Loss')\n",
        "    plt.legend()\n",
        "\n",
        "    plt.show()"
      ],
      "execution_count": 15,
      "outputs": []
    },
    {
      "cell_type": "code",
      "metadata": {
        "colab": {
          "base_uri": "https://localhost:8080/",
          "height": 536
        },
        "id": "dkTt3L3H7tib",
        "outputId": "0d77a9e5-da49-4f42-9bbf-00b326868c15"
      },
      "source": [
        "train_visualitation = plot_acc_loss(history)"
      ],
      "execution_count": 16,
      "outputs": [
        {
          "output_type": "display_data",
          "data": {
            "image/png": "[encoded data removed]",
            "text/plain": [
              "<Figure size 600x600 with 2 Axes>"
            ]
          },
          "metadata": {
            "tags": [],
            "needs_background": "light"
          }
        }
      ]
    }
  ]
}